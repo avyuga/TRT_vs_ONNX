{
 "cells": [
  {
   "cell_type": "code",
   "execution_count": 5,
   "id": "4f7c27fa-d8bd-4e0f-bcd1-0cd6bd8c7465",
   "metadata": {},
   "outputs": [],
   "source": [
    "import os\n",
    "\n",
    "#os.environ[\"LD_LIBRARY_PATH\"] = os.environ[\"LD_LIBRARY_PATH\"] + \\\n",
    "#    \":/home/jovyan/workspace/cpp_libs/TensorRT-10.9.0.34/lib/libnvinfer.so.10\" + \\\n",
    "#    \":/home/jovyan/workspace/cpp_libs/TensorRT-10.9.0.34/targets/x86_64-linux-gnu/lib/libnvinfer.so.10\"\n",
    "\n",
    "os.environ[\"LD_LIBRARY_PATH\"] =  os.environ[\"LD_LIBRARY_PATH\"] + \":/home/jovyan/workspace/cpp_libs/TensorRT-10.9.0.34/targets/x86_64-linux-gnu/lib/\""
   ]
  },
  {
   "cell_type": "code",
   "execution_count": 7,
   "id": "34a40860-1661-4d02-b0ab-8db4aa237383",
   "metadata": {},
   "outputs": [],
   "source": [
    "import sys\n",
    "\n",
    "sys.path.append(\"/home/jovyan/workspace/cpp_libs/TensorRT-10.9.0.34/targets/x86_64-linux-gnu/lib/\")"
   ]
  },
  {
   "cell_type": "code",
   "execution_count": 8,
   "id": "978634c1-444c-4a53-b907-c706bc55e379",
   "metadata": {},
   "outputs": [
    {
     "data": {
      "text/plain": [
       "['/opt/conda/lib/python311.zip',\n",
       " '/opt/conda/lib/python3.11',\n",
       " '/opt/conda/lib/python3.11/lib-dynload',\n",
       " '',\n",
       " '/home/jovyan/workspace/venvs/onnx-trt/lib/python3.11/site-packages',\n",
       " '/home/jovyan/workspace/cpp_libs/TensorRT-10.9.0.34/targets/x86_64-linux-gnu/lib/']"
      ]
     },
     "execution_count": 8,
     "metadata": {},
     "output_type": "execute_result"
    }
   ],
   "source": [
    "sys.path"
   ]
  },
  {
   "cell_type": "code",
   "execution_count": 9,
   "id": "70d23250-1a96-4169-91d5-1cac0904fa68",
   "metadata": {},
   "outputs": [
    {
     "name": "stdout",
     "output_type": "stream",
     "text": [
      "/usr/local/nvidia/lib:/usr/local/nvidia/lib64:/home/jovyan/workspace/cpp_libs/TensorRT-10.9.0.34/targets/x86_64-linux-gnu/lib/\n"
     ]
    }
   ],
   "source": [
    "! echo $LD_LIBRARY_PATH"
   ]
  },
  {
   "cell_type": "code",
   "execution_count": 10,
   "id": "3180877c-b22e-4261-aa19-5144e229c219",
   "metadata": {},
   "outputs": [
    {
     "ename": "ImportError",
     "evalue": "libnvinfer.so.10: cannot open shared object file: No such file or directory",
     "output_type": "error",
     "traceback": [
      "\u001b[31m---------------------------------------------------------------------------\u001b[39m",
      "\u001b[31mImportError\u001b[39m                               Traceback (most recent call last)",
      "\u001b[36mCell\u001b[39m\u001b[36m \u001b[39m\u001b[32mIn[10]\u001b[39m\u001b[32m, line 1\u001b[39m\n\u001b[32m----> \u001b[39m\u001b[32m1\u001b[39m \u001b[38;5;28;01mimport\u001b[39;00m\u001b[38;5;250m \u001b[39m\u001b[34;01mtensorrt\u001b[39;00m\u001b[38;5;250m \u001b[39m\u001b[38;5;28;01mas\u001b[39;00m\u001b[38;5;250m \u001b[39m\u001b[34;01mtrt\u001b[39;00m\n",
      "\u001b[36mFile \u001b[39m\u001b[32m~/workspace/venvs/onnx-trt/lib/python3.11/site-packages/tensorrt/__init__.py:83\u001b[39m\n\u001b[32m     79\u001b[39m         ctypes.CDLL(lib_path)\n\u001b[32m     81\u001b[39m \u001b[38;5;28;01mdel\u001b[39;00m _libs_wheel_imported\n\u001b[32m---> \u001b[39m\u001b[32m83\u001b[39m \u001b[38;5;28;01mfrom\u001b[39;00m\u001b[38;5;250m \u001b[39m\u001b[34;01m.\u001b[39;00m\u001b[34;01mtensorrt\u001b[39;00m\u001b[38;5;250m \u001b[39m\u001b[38;5;28;01mimport\u001b[39;00m *\n\u001b[32m     85\u001b[39m __version__ = \u001b[33m\"\u001b[39m\u001b[33m10.9.0.34\u001b[39m\u001b[33m\"\u001b[39m\n\u001b[32m     88\u001b[39m \u001b[38;5;66;03m# Provides Python's `with` syntax\u001b[39;00m\n",
      "\u001b[31mImportError\u001b[39m: libnvinfer.so.10: cannot open shared object file: No such file or directory"
     ]
    }
   ],
   "source": [
    "import tensorrt as trt"
   ]
  },
  {
   "cell_type": "code",
   "execution_count": 1,
   "id": "8b591295-fc3e-4116-ba10-94857b8c5fb6",
   "metadata": {},
   "outputs": [],
   "source": [
    "from cuda import cuda, cudart"
   ]
  },
  {
   "cell_type": "code",
   "execution_count": 19,
   "id": "e47328f1-96b9-4174-a207-e00e9a833aac",
   "metadata": {},
   "outputs": [
    {
     "name": "stdout",
     "output_type": "stream",
     "text": [
      "/home/jovyan/workspace/cpp_libs/TensorRT-10.9.0.34/targets/x86_64-linux-gnu/lib/libnvinfer.so.10\n"
     ]
    }
   ],
   "source": [
    "! find /home -name \"libnvinfer.so.10\""
   ]
  },
  {
   "cell_type": "code",
   "execution_count": 1,
   "id": "c648556d-18b1-41b2-839c-25606301395e",
   "metadata": {},
   "outputs": [
    {
     "ename": "ImportError",
     "evalue": "libnvinfer.so.10: cannot open shared object file: No such file or directory",
     "output_type": "error",
     "traceback": [
      "\u001b[31m---------------------------------------------------------------------------\u001b[39m",
      "\u001b[31mImportError\u001b[39m                               Traceback (most recent call last)",
      "\u001b[36mCell\u001b[39m\u001b[36m \u001b[39m\u001b[32mIn[1]\u001b[39m\u001b[32m, line 1\u001b[39m\n\u001b[32m----> \u001b[39m\u001b[32m1\u001b[39m \u001b[38;5;28;01mfrom\u001b[39;00m\u001b[38;5;250m \u001b[39m\u001b[34;01myolov10\u001b[39;00m\u001b[38;5;250m \u001b[39m\u001b[38;5;28;01mimport\u001b[39;00m YoloV10ONNX\n",
      "\u001b[36mFile \u001b[39m\u001b[32m~/workspace/AIArchitecture/TRT_vs_ONNX/python/yolov10.py:8\u001b[39m\n\u001b[32m      5\u001b[39m \u001b[38;5;28;01mfrom\u001b[39;00m\u001b[38;5;250m \u001b[39m\u001b[34;01mPIL\u001b[39;00m\u001b[38;5;250m \u001b[39m\u001b[38;5;28;01mimport\u001b[39;00m Image\n\u001b[32m      6\u001b[39m \u001b[38;5;28;01mimport\u001b[39;00m\u001b[38;5;250m \u001b[39m\u001b[34;01mnumpy\u001b[39;00m\u001b[38;5;250m \u001b[39m\u001b[38;5;28;01mas\u001b[39;00m\u001b[38;5;250m \u001b[39m\u001b[34;01mnp\u001b[39;00m\n\u001b[32m----> \u001b[39m\u001b[32m8\u001b[39m \u001b[38;5;28;01mimport\u001b[39;00m\u001b[38;5;250m \u001b[39m\u001b[34;01mtensorrt\u001b[39;00m\u001b[38;5;250m \u001b[39m\u001b[38;5;28;01mas\u001b[39;00m\u001b[38;5;250m \u001b[39m\u001b[34;01mtrt\u001b[39;00m\n\u001b[32m      9\u001b[39m \u001b[38;5;28;01mfrom\u001b[39;00m\u001b[38;5;250m \u001b[39m\u001b[34;01mcuda\u001b[39;00m\u001b[38;5;250m \u001b[39m\u001b[38;5;28;01mimport\u001b[39;00m cuda, cudart\n\u001b[32m     10\u001b[39m \u001b[38;5;28;01mimport\u001b[39;00m\u001b[38;5;250m \u001b[39m\u001b[34;01mcommon\u001b[39;00m\n",
      "\u001b[36mFile \u001b[39m\u001b[32m~/workspace/venvs/onnx-trt/lib/python3.11/site-packages/tensorrt/__init__.py:83\u001b[39m\n\u001b[32m     79\u001b[39m         ctypes.CDLL(lib_path)\n\u001b[32m     81\u001b[39m \u001b[38;5;28;01mdel\u001b[39;00m _libs_wheel_imported\n\u001b[32m---> \u001b[39m\u001b[32m83\u001b[39m \u001b[38;5;28;01mfrom\u001b[39;00m\u001b[38;5;250m \u001b[39m\u001b[34;01m.\u001b[39;00m\u001b[34;01mtensorrt\u001b[39;00m\u001b[38;5;250m \u001b[39m\u001b[38;5;28;01mimport\u001b[39;00m *\n\u001b[32m     85\u001b[39m __version__ = \u001b[33m\"\u001b[39m\u001b[33m10.9.0.34\u001b[39m\u001b[33m\"\u001b[39m\n\u001b[32m     88\u001b[39m \u001b[38;5;66;03m# Provides Python's `with` syntax\u001b[39;00m\n",
      "\u001b[31mImportError\u001b[39m: libnvinfer.so.10: cannot open shared object file: No such file or directory"
     ]
    }
   ],
   "source": [
    "from yolov10 import YoloV10ONNX"
   ]
  },
  {
   "cell_type": "code",
   "execution_count": null,
   "id": "8c7c1e74-f42e-4f29-9e16-b264dc1da9d1",
   "metadata": {},
   "outputs": [],
   "source": []
  }
 ],
 "metadata": {
  "kernelspec": {
   "display_name": "onnx-trt",
   "language": "python",
   "name": "onnx-trt"
  },
  "language_info": {
   "codemirror_mode": {
    "name": "ipython",
    "version": 3
   },
   "file_extension": ".py",
   "mimetype": "text/x-python",
   "name": "python",
   "nbconvert_exporter": "python",
   "pygments_lexer": "ipython3",
   "version": "3.11.11"
  }
 },
 "nbformat": 4,
 "nbformat_minor": 5
}
